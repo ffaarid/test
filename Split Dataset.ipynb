{
 "cells": [
  {
   "cell_type": "code",
   "execution_count": 1,
   "id": "00441082",
   "metadata": {},
   "outputs": [],
   "source": [
    "import os\n",
    "import shutil\n",
    "import random\n",
    "from sklearn.model_selection import train_test_split"
   ]
  },
  {
   "cell_type": "code",
   "execution_count": 2,
   "id": "35ba82e0",
   "metadata": {},
   "outputs": [],
   "source": [
    "# Path to the dataset directory\n",
    "dataset_dir = r\"D:\\4IA17 S2\\SKRIPSI\\fruitDetection\\Fruit-262\\Fruit-262 select\"\n",
    "\n",
    "# Path to the output directory\n",
    "output_dir = r\"D:\\4IA17 S2\\SKRIPSI\\fruitDetection\\Fruit-262\\Fruit-262 split\"\n",
    "\n"
   ]
  },
  {
   "cell_type": "code",
   "execution_count": 3,
   "id": "8bf16f18",
   "metadata": {},
   "outputs": [],
   "source": [
    "class_names = os.listdir(dataset_dir)\n",
    "for class_name in class_names:\n",
    "    class_dir = os.path.join(dataset_dir, class_name)\n",
    "    images = os.listdir(class_dir)\n",
    "    train_images, test_images = train_test_split(images, test_size=0.2)\n",
    "    \n",
    "    # Copy the training images to the output directory\n",
    "    train_dir = os.path.join(output_dir, \"train\", class_name)\n",
    "    os.makedirs(train_dir, exist_ok=True)\n",
    "    for image_name in train_images:\n",
    "        src_path = os.path.join(class_dir, image_name)\n",
    "        dst_path = os.path.join(train_dir, image_name)\n",
    "        shutil.copyfile(src_path, dst_path)\n",
    "        \n",
    "    # Copy the testing images to the output directory\n",
    "    test_dir = os.path.join(output_dir, \"test\", class_name)\n",
    "    os.makedirs(test_dir, exist_ok=True)\n",
    "    for image_name in test_images:\n",
    "        src_path = os.path.join(class_dir, image_name)\n",
    "        dst_path = os.path.join(test_dir, image_name)\n",
    "        shutil.copyfile(src_path, dst_path)"
   ]
  },
  {
   "cell_type": "code",
   "execution_count": null,
   "id": "19aba9bc",
   "metadata": {},
   "outputs": [],
   "source": []
  }
 ],
 "metadata": {
  "kernelspec": {
   "display_name": "Python 3 (ipykernel)",
   "language": "python",
   "name": "python3"
  },
  "language_info": {
   "codemirror_mode": {
    "name": "ipython",
    "version": 3
   },
   "file_extension": ".py",
   "mimetype": "text/x-python",
   "name": "python",
   "nbconvert_exporter": "python",
   "pygments_lexer": "ipython3",
   "version": "3.9.13"
  }
 },
 "nbformat": 4,
 "nbformat_minor": 5
}
